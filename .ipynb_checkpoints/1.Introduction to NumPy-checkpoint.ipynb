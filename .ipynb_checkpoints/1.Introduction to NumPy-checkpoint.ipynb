{
 "cells": [
  {
   "cell_type": "markdown",
   "metadata": {},
   "source": [
    "One of the reasons that the Python language is extremely popular is that it makes writing programs easy. Because Python is a high-level language, we don't have to worry about things like allocating memory on our computer or choosing how certain operations are done by our computer's processor. In contrast, when we use low-level languages like C, we define exactly how memory will be managed and how the processor will execute our instructions. This means that coding in a low-level language takes longer; however, we have more ability to optimize our code to run faster."
   ]
  },
  {
   "cell_type": "markdown",
   "metadata": {},
   "source": [
    "We used lists of lists to represent data sets. While lists of lists are sufficient for working with small data sets, they aren't very good for working with larger data sets. The NumPy library solves this problem."
   ]
  },
  {
   "cell_type": "code",
   "execution_count": 4,
   "metadata": {},
   "outputs": [
    {
     "data": {
      "text/plain": [
       "[3, 1, 3, 2]"
      ]
     },
     "execution_count": 4,
     "metadata": {},
     "output_type": "execute_result"
    }
   ],
   "source": [
    "lolst = [[1,2],[0,1],[2,1],[1,1]]\n",
    "\n",
    "sums = []\n",
    "for i in lolst:\n",
    "    add = i[0] + i[1]\n",
    "    sums.append(add)\n",
    "sums\n",
    "    "
   ]
  },
  {
   "cell_type": "markdown",
   "metadata": {},
   "source": [
    "In each iteration of our loop, the Python interpreter turns our code into bytecode, and the bytecode asks our computer's processor to add the two numbers together"
   ]
  },
  {
   "cell_type": "markdown",
   "metadata": {},
   "source": [
    "Our computer would take four processor cycles to process the four rows of our data."
   ]
  },
  {
   "cell_type": "markdown",
   "metadata": {},
   "source": [
    "The NumPy library takes advantage of a processor feature called **Single Instruction Multiple Data (SIMD)** to process data faster. SIMD allows a processor to perform the same operation, on multiple data points, in a single processor cycle"
   ]
  },
  {
   "cell_type": "markdown",
   "metadata": {},
   "source": [
    "This concept of replacing for loops with operations applied to multiple data points at once is called **vectorization**."
   ]
  },
  {
   "cell_type": "markdown",
   "metadata": {},
   "source": [
    "The core data structure in NumPy that makes vectorization possible is the **ndarray or n-dimensional array**. In programming, array describes a collection of elements, similar to a list. The word n-dimensional refers to the fact that ndarrays can have one or more dimensions."
   ]
  },
  {
   "cell_type": "code",
   "execution_count": 3,
   "metadata": {},
   "outputs": [
    {
     "data": {
      "text/plain": [
       "dtype('int32')"
      ]
     },
     "execution_count": 3,
     "metadata": {},
     "output_type": "execute_result"
    }
   ],
   "source": [
    "import numpy as np\n",
    "\n",
    "data_ndarray = np.array([10, 20, 30])\n",
    "data_ndarray.dtype\n"
   ]
  },
  {
   "cell_type": "markdown",
   "metadata": {},
   "source": [
    "We'll analyze taxi trip data released by the city of New York."
   ]
  },
  {
   "cell_type": "markdown",
   "metadata": {},
   "source": [
    "Approximately 90,000 yellow taxi trips to and from New York City airports between January and June 2016. Below is information about selected columns from the data set:\n",
    "\n",
    "* `pickup_year`: The year of the trip.\n",
    "* `pickup_month`: The month of the trip (January is 1, December is 12).\n",
    "* `pickup_day`: The day of the month of the trip.\n",
    "* `pickup_location_code`: The airport or borough where the trip started.\n",
    "* `dropoff_location_code`: The airport or borough where the trip finished.\n",
    "* `trip_distance`: The distance of the trip in miles.\n",
    "* `trip_length`: The length of the trip in seconds.\n",
    "* `fare_amount`: The base fare of the trip, in dollars.\n",
    "* `total_amount`: The total amount charged to the passenger, including all fees, tolls and tips."
   ]
  },
  {
   "cell_type": "code",
   "execution_count": 3,
   "metadata": {},
   "outputs": [],
   "source": [
    "from csv import reader\n",
    "\n",
    "data = list(reader(open(\"nyc_taxis.csv\")))\n",
    "\n",
    "data = data[1:]\n",
    "\n",
    "converted_list = []\n",
    "\n",
    "for i in data:\n",
    "    lst = []\n",
    "    for item in i:\n",
    "        lst.append(float(item))\n",
    "    converted_list.append(lst)\n",
    "\n",
    "        "
   ]
  },
  {
   "cell_type": "code",
   "execution_count": 12,
   "metadata": {},
   "outputs": [],
   "source": [
    "import numpy as np\n",
    "\n",
    "# Method 1\n",
    "# taxi = np.array(data, dtype = np.float64)\n",
    "# taxi.astype(\"float64\")\n",
    "\n",
    "# Method 2\n",
    "taxi = np.array(converted_list)\n",
    "print(taxi.dtype)\n",
    "\n",
    "# Method 3\n",
    "# taxi = np.genfromtxt(\"nyc_taxis.csv\", skip_header = True, delimiter = \",\")\n",
    "# print(taxi.dtype) "
   ]
  },
  {
   "cell_type": "markdown",
   "metadata": {},
   "source": [
    "The elipses (...) between rows and columns indicate that there is more data in our NumPy ndarray than can easily be printed."
   ]
  },
  {
   "cell_type": "markdown",
   "metadata": {},
   "source": [
    "When we can't easily print the entire ndarray, we can use the `ndarray.shape` attribute instead"
   ]
  },
  {
   "cell_type": "markdown",
   "metadata": {},
   "source": [
    "The data type returned is called a **tuple**. Tuples are very similar to Python lists, but can't be modified.\n",
    "\n",
    "The output gives us a few important pieces of information:\n",
    "\n",
    "* The first number tells us that there are rows in `data_ndarray`.\n",
    "* The second number tells us that there are columns in `data_ndarray`."
   ]
  },
  {
   "cell_type": "code",
   "execution_count": 13,
   "metadata": {},
   "outputs": [
    {
     "data": {
      "text/plain": [
       "(89560, 15)"
      ]
     },
     "execution_count": 13,
     "metadata": {},
     "output_type": "execute_result"
    }
   ],
   "source": [
    "taxi_shape = taxi.shape\n",
    "taxi_shape"
   ]
  },
  {
   "cell_type": "code",
   "execution_count": 14,
   "metadata": {},
   "outputs": [],
   "source": [
    "row_0 = taxi[0] # Select the row at index 0\n",
    "rows_391_to_500 = taxi[391:501] # Select every column for the rows at indexes 391 to 500 inclusive\n",
    "row_21_column_5 = taxi[21,5] # Select the item at row index 21 and column index 5"
   ]
  },
  {
   "cell_type": "code",
   "execution_count": 15,
   "metadata": {},
   "outputs": [],
   "source": [
    "columns_1_4_7 = taxi[:,[1,4,7]] # Select every row for the columns at indexes 1, 4, and 7\n",
    "row_99_columns_5_to_8 = taxi[99,5:9] # Select the columns at indexes 5 to 8 inclusive for the row at index 99\n",
    "rows_100_to_200_column_14 = taxi[100:201,14] # Select the rows at indexes 100 to 200 inclusive for the column at index 14"
   ]
  },
  {
   "cell_type": "code",
   "execution_count": 16,
   "metadata": {},
   "outputs": [],
   "source": [
    "fare_and_fees = taxi[:,9] + taxi[:,10] # add two columns"
   ]
  },
  {
   "cell_type": "markdown",
   "metadata": {},
   "source": [
    "The result of adding two 1D ndarrays is a 1D ndarray of the same shape (or dimensions) as the original. In this context, ndarrays can also be called **vectors**, a term taken from a branch of mathematics called **linear algebra**. What we just did, adding two vectors together, is called **vector addition**."
   ]
  },
  {
   "cell_type": "markdown",
   "metadata": {},
   "source": [
    " We can actually use any of the standard Python numeric operators with vectors, including:\n",
    "\n",
    "* vector_a + vector_b - Addition\n",
    "* vector_a - vector_b - Subtraction\n",
    "* vector_a * vector_b - Multiplication (this is unrelated to the vector multiplication used in linear algebra).\n",
    "* vector_a / vector_b - Division"
   ]
  },
  {
   "cell_type": "markdown",
   "metadata": {},
   "source": [
    "When we perform these operations on two 1D vectors, both vectors must have the same shape."
   ]
  },
  {
   "cell_type": "code",
   "execution_count": 17,
   "metadata": {},
   "outputs": [],
   "source": [
    "# Calculate the miles per hour\n",
    "\n",
    "trip_distance_miles = taxi[:,7]\n",
    "trip_length_seconds = taxi[:,8]\n",
    "trip_mph = trip_distance_miles/(trip_length_seconds/3600) # # 3600 seconds in one hour"
   ]
  },
  {
   "cell_type": "markdown",
   "metadata": {},
   "source": [
    "Numpy ndarrays have methods for many different calculations. A few key methods are:\n",
    "\n",
    "* `ndarray.min()` to calculate the minimum value\n",
    "* `ndarray.max()` to calculate the maximum value\n",
    "* `ndarray.mean()` to calculate the mean or average value\n",
    "* `ndarray.sum()` to calculate the sum of the values"
   ]
  },
  {
   "cell_type": "code",
   "execution_count": 21,
   "metadata": {},
   "outputs": [
    {
     "name": "stdout",
     "output_type": "stream",
     "text": [
      "82800.0\n",
      "32.24\n",
      "0.0\n"
     ]
    }
   ],
   "source": [
    "mph_max = trip_mph.max() \n",
    "mph_mean = trip_mph.mean()\n",
    "mph_min = trip_mph.min() \n",
    "\n",
    "print(round(mph_max,ndigits =2))\n",
    "print(round(mph_mean,ndigits =2))\n",
    "print(round(mph_min,ndigits =2))"
   ]
  },
  {
   "cell_type": "markdown",
   "metadata": {},
   "source": [
    "A trip speed of 82,000 mph is definitely not possible in New York traffic - that's almost 20x faster than the fastest plane in the world! This could be due to an error in the devices that records the data, or perhaps errors made somewhere in the data pipeline"
   ]
  },
  {
   "cell_type": "markdown",
   "metadata": {},
   "source": [
    "# Review the difference between methods and functions. \n",
    "\n",
    "Functions act as stand alone segments of code that usually take an input, perform some processing, and return some output. For example, we can use the `len()` function to calculate the length of a list or the number of characters in a string."
   ]
  },
  {
   "cell_type": "markdown",
   "metadata": {},
   "source": [
    "In contrast, methods are special functions that belong to a specific type of object. This means that, for instance, when we work with list objects, there are special functions or methods that can only be used with lists. For example, we can use the `list.append()` method to add an item to the end of a list. If we try to use that method on a string, we will get an error:"
   ]
  },
  {
   "cell_type": "markdown",
   "metadata": {},
   "source": [
    "In NumPy, sometimes there are operations that are implemented as both methods and functions, which can be confusing.\n",
    "\n",
    "To remember the right terminology, anything that starts with np (e.g. np.mean()) is a function and anything expressed with an object (or variable) name first (e.g. `trip_mph.mean()`) is a method. When both exist, it's up to us to decide which to use, but it's much more common to use the method approach."
   ]
  },
  {
   "cell_type": "markdown",
   "metadata": {},
   "source": [
    "We'll calculate statistics for 2D ndarrays. If we use the `ndarray.max()` method on a 2D ndarray without any additional parameters, it will return a single value, just like with a 1D array:"
   ]
  },
  {
   "cell_type": "markdown",
   "metadata": {},
   "source": [
    "But what if we wanted to find the maximum value of each row? We'd need to use the axis parameter and specify a value of 1 to indicate we want to calculate the maximum value for each row."
   ]
  },
  {
   "cell_type": "markdown",
   "metadata": {},
   "source": [
    "If we want to find the maximum value of each column, we'd use an axis value of 0:"
   ]
  },
  {
   "cell_type": "code",
   "execution_count": 22,
   "metadata": {},
   "outputs": [
    {
     "name": "stdout",
     "output_type": "stream",
     "text": [
      "[69.99 54.3  37.8  32.76 18.8 ]\n",
      "[69.99 54.3  37.8  32.76 18.8 ]\n"
     ]
    }
   ],
   "source": [
    "taxi_first_five = taxi[:5] # first five rows \n",
    "fare_components = taxi[:5,9:13] # select these columns: fare_amount, fees_amount, tolls_amount, tip_amount\n",
    "\n",
    "fare_sums = fare_components.sum(axis = 1)\n",
    "fare_totals = taxi_first_five[:,13]\n",
    "\n",
    "# compare the summed columns to the fare_totals\n",
    "print(fare_sums)\n",
    "print(fare_totals)\n"
   ]
  },
  {
   "cell_type": "code",
   "execution_count": null,
   "metadata": {},
   "outputs": [],
   "source": []
  }
 ],
 "metadata": {
  "kernelspec": {
   "display_name": "Python 3",
   "language": "python",
   "name": "python3"
  },
  "language_info": {
   "codemirror_mode": {
    "name": "ipython",
    "version": 3
   },
   "file_extension": ".py",
   "mimetype": "text/x-python",
   "name": "python",
   "nbconvert_exporter": "python",
   "pygments_lexer": "ipython3",
   "version": "3.7.6"
  }
 },
 "nbformat": 4,
 "nbformat_minor": 2
}
