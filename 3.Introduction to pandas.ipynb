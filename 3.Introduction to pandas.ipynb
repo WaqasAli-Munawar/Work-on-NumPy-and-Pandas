{
 "cells": [
  {
   "cell_type": "markdown",
   "metadata": {},
   "source": [
    "We explored how the NumPy library makes working with data easier. Because we can easily work across multiple dimensions, our code is a lot easier to understand. By using vectorized operations instead of loops, our code runs faster with larger data."
   ]
  },
  {
   "cell_type": "markdown",
   "metadata": {},
   "source": [
    "Although NumPy provides fundamental structures and tools that make working with data easier, there are several things that limit its usefulness:\n",
    "\n",
    "- The lack of support for column names forces us to frame questions as multi-dimensional array operations.\n",
    "- Support for only one data type per ndarray makes it more difficult to work with data that contains both numeric and string data.\n",
    "- There are lots of low level methods, but there are many common analysis patterns that don't have pre-built methods."
   ]
  },
  {
   "cell_type": "markdown",
   "metadata": {},
   "source": [
    "The pandas library provides solutions to all of these pain points and more. Pandas is not so much a replacement for NumPy as an extension of NumPy. The underlying code for pandas uses the NumPy library extensively"
   ]
  },
  {
   "cell_type": "markdown",
   "metadata": {},
   "source": [
    "The primary data structure in pandas is called a **DataFrame**. Dataframes are the pandas equivalent of a Numpy 2D ndarray, with a few key differences:\n",
    "\n",
    "Axis values can have string labels, not just numeric ones.\n",
    "Dataframes can contain columns with multiple data types: including `integer`, `float`, and `string`."
   ]
  },
  {
   "cell_type": "markdown",
   "metadata": {},
   "source": [
    "We'll work with a data set from Fortune magazine's 2017 Global 500 list, which ranks the top 500 corporations worldwide by revenue. The data set was originally compiled [here](https://data.world/chasewillden/fortune-500-companies-2017); however, we modified the original data set to make it more accessible."
   ]
  },
  {
   "cell_type": "code",
   "execution_count": 1,
   "metadata": {},
   "outputs": [
    {
     "name": "stdout",
     "output_type": "stream",
     "text": [
      "(500, 16)\n",
      "<class 'pandas.core.frame.DataFrame'>\n",
      "rank                          int64\n",
      "revenues                      int64\n",
      "revenue_change              float64\n",
      "profits                     float64\n",
      "assets                        int64\n",
      "profit_change               float64\n",
      "ceo                          object\n",
      "industry                     object\n",
      "sector                       object\n",
      "previous_rank                 int64\n",
      "country                      object\n",
      "hq_location                  object\n",
      "website                      object\n",
      "years_on_global_500_list      int64\n",
      "employees                     int64\n",
      "total_stockholder_equity      int64\n",
      "dtype: object\n"
     ]
    }
   ],
   "source": [
    "import pandas as pd\n",
    "\n",
    "f500 = pd.read_csv(\"f500.csv\", index_col = 0)\n",
    "f500.index.name = None\n",
    "print(f500.shape)\n",
    "print(type(f500))\n",
    "print(f500.dtypes)\n"
   ]
  },
  {
   "cell_type": "markdown",
   "metadata": {},
   "source": [
    "Here is a data dictionary for some of the columns:\n",
    "\n",
    "- `company`: Name of the company.\n",
    "- `rank`: Global 500 rank for the company.\n",
    "- `revenues`: Company's total revenue for the fiscal year, in millions of dollars (USD).\n",
    "- `revenue_change`: Percentage change in revenue between the current and prior fiscal year.\n",
    "- `profits`: Net income for the fiscal year, in millions of dollars (USD).\n",
    "- `ceo`: Company's Chief Executive Officer.\n",
    "- `industry`: Industry in which the company operates.\n",
    "- `sector`: Sector in which the company operates.\n",
    "- `previous_rank`: Global 500 rank for the company for the prior year.\n",
    "- `country`: Country in which the company is headquartered."
   ]
  },
  {
   "cell_type": "code",
   "execution_count": 2,
   "metadata": {},
   "outputs": [
    {
     "data": {
      "text/html": [
       "<div>\n",
       "<style scoped>\n",
       "    .dataframe tbody tr th:only-of-type {\n",
       "        vertical-align: middle;\n",
       "    }\n",
       "\n",
       "    .dataframe tbody tr th {\n",
       "        vertical-align: top;\n",
       "    }\n",
       "\n",
       "    .dataframe thead th {\n",
       "        text-align: right;\n",
       "    }\n",
       "</style>\n",
       "<table border=\"1\" class=\"dataframe\">\n",
       "  <thead>\n",
       "    <tr style=\"text-align: right;\">\n",
       "      <th></th>\n",
       "      <th>rank</th>\n",
       "      <th>revenues</th>\n",
       "      <th>revenue_change</th>\n",
       "      <th>profits</th>\n",
       "      <th>assets</th>\n",
       "      <th>profit_change</th>\n",
       "      <th>ceo</th>\n",
       "      <th>industry</th>\n",
       "      <th>sector</th>\n",
       "      <th>previous_rank</th>\n",
       "      <th>country</th>\n",
       "      <th>hq_location</th>\n",
       "      <th>website</th>\n",
       "      <th>years_on_global_500_list</th>\n",
       "      <th>employees</th>\n",
       "      <th>total_stockholder_equity</th>\n",
       "    </tr>\n",
       "  </thead>\n",
       "  <tbody>\n",
       "    <tr>\n",
       "      <th>Telecom Italia</th>\n",
       "      <td>493</td>\n",
       "      <td>21941</td>\n",
       "      <td>-17.4</td>\n",
       "      <td>1999.4</td>\n",
       "      <td>74295</td>\n",
       "      <td>NaN</td>\n",
       "      <td>Flavio Cattaneo</td>\n",
       "      <td>Telecommunications</td>\n",
       "      <td>Telecommunications</td>\n",
       "      <td>404</td>\n",
       "      <td>Italy</td>\n",
       "      <td>Milan, Italy</td>\n",
       "      <td>http://www.telecomitalia.com</td>\n",
       "      <td>18</td>\n",
       "      <td>61227</td>\n",
       "      <td>22366</td>\n",
       "    </tr>\n",
       "    <tr>\n",
       "      <th>Xiamen ITG Holding Group</th>\n",
       "      <td>494</td>\n",
       "      <td>21930</td>\n",
       "      <td>34.3</td>\n",
       "      <td>35.6</td>\n",
       "      <td>12161</td>\n",
       "      <td>-25.1</td>\n",
       "      <td>Xu Xiaoxi</td>\n",
       "      <td>Trading</td>\n",
       "      <td>Wholesalers</td>\n",
       "      <td>0</td>\n",
       "      <td>China</td>\n",
       "      <td>Xiamen, China</td>\n",
       "      <td>http://www.itgholding.com.cn</td>\n",
       "      <td>1</td>\n",
       "      <td>18454</td>\n",
       "      <td>1066</td>\n",
       "    </tr>\n",
       "    <tr>\n",
       "      <th>Xinjiang Guanghui Industry Investment</th>\n",
       "      <td>495</td>\n",
       "      <td>21919</td>\n",
       "      <td>31.1</td>\n",
       "      <td>251.8</td>\n",
       "      <td>31957</td>\n",
       "      <td>49.9</td>\n",
       "      <td>Shang Jiqiang</td>\n",
       "      <td>Trading</td>\n",
       "      <td>Wholesalers</td>\n",
       "      <td>0</td>\n",
       "      <td>China</td>\n",
       "      <td>Urumqi, China</td>\n",
       "      <td>http://www.guanghui.com</td>\n",
       "      <td>1</td>\n",
       "      <td>65616</td>\n",
       "      <td>4563</td>\n",
       "    </tr>\n",
       "    <tr>\n",
       "      <th>Teva Pharmaceutical Industries</th>\n",
       "      <td>496</td>\n",
       "      <td>21903</td>\n",
       "      <td>11.5</td>\n",
       "      <td>329.0</td>\n",
       "      <td>92890</td>\n",
       "      <td>-79.3</td>\n",
       "      <td>Yitzhak Peterburg</td>\n",
       "      <td>Pharmaceuticals</td>\n",
       "      <td>Health Care</td>\n",
       "      <td>0</td>\n",
       "      <td>Israel</td>\n",
       "      <td>Petach Tikva, Israel</td>\n",
       "      <td>http://www.tevapharm.com</td>\n",
       "      <td>1</td>\n",
       "      <td>56960</td>\n",
       "      <td>33337</td>\n",
       "    </tr>\n",
       "    <tr>\n",
       "      <th>New China Life Insurance</th>\n",
       "      <td>497</td>\n",
       "      <td>21796</td>\n",
       "      <td>-13.3</td>\n",
       "      <td>743.9</td>\n",
       "      <td>100609</td>\n",
       "      <td>-45.6</td>\n",
       "      <td>Wan Feng</td>\n",
       "      <td>Insurance: Life, Health (stock)</td>\n",
       "      <td>Financials</td>\n",
       "      <td>427</td>\n",
       "      <td>China</td>\n",
       "      <td>Beijing, China</td>\n",
       "      <td>http://www.newchinalife.com</td>\n",
       "      <td>2</td>\n",
       "      <td>54378</td>\n",
       "      <td>8507</td>\n",
       "    </tr>\n",
       "    <tr>\n",
       "      <th>Wm. Morrison Supermarkets</th>\n",
       "      <td>498</td>\n",
       "      <td>21741</td>\n",
       "      <td>-11.3</td>\n",
       "      <td>406.4</td>\n",
       "      <td>11630</td>\n",
       "      <td>20.4</td>\n",
       "      <td>David T. Potts</td>\n",
       "      <td>Food and Drug Stores</td>\n",
       "      <td>Food &amp; Drug Stores</td>\n",
       "      <td>437</td>\n",
       "      <td>Britain</td>\n",
       "      <td>Bradford, Britain</td>\n",
       "      <td>http://www.morrisons.com</td>\n",
       "      <td>13</td>\n",
       "      <td>77210</td>\n",
       "      <td>5111</td>\n",
       "    </tr>\n",
       "    <tr>\n",
       "      <th>TUI</th>\n",
       "      <td>499</td>\n",
       "      <td>21655</td>\n",
       "      <td>-5.5</td>\n",
       "      <td>1151.7</td>\n",
       "      <td>16247</td>\n",
       "      <td>195.5</td>\n",
       "      <td>Friedrich Joussen</td>\n",
       "      <td>Travel Services</td>\n",
       "      <td>Business Services</td>\n",
       "      <td>467</td>\n",
       "      <td>Germany</td>\n",
       "      <td>Hanover, Germany</td>\n",
       "      <td>http://www.tuigroup.com</td>\n",
       "      <td>23</td>\n",
       "      <td>66779</td>\n",
       "      <td>3006</td>\n",
       "    </tr>\n",
       "    <tr>\n",
       "      <th>AutoNation</th>\n",
       "      <td>500</td>\n",
       "      <td>21609</td>\n",
       "      <td>3.6</td>\n",
       "      <td>430.5</td>\n",
       "      <td>10060</td>\n",
       "      <td>-2.7</td>\n",
       "      <td>Michael J. Jackson</td>\n",
       "      <td>Specialty Retailers</td>\n",
       "      <td>Retailing</td>\n",
       "      <td>0</td>\n",
       "      <td>USA</td>\n",
       "      <td>Fort Lauderdale, FL</td>\n",
       "      <td>http://www.autonation.com</td>\n",
       "      <td>12</td>\n",
       "      <td>26000</td>\n",
       "      <td>2310</td>\n",
       "    </tr>\n",
       "  </tbody>\n",
       "</table>\n",
       "</div>"
      ],
      "text/plain": [
       "                                       rank  revenues  revenue_change  \\\n",
       "Telecom Italia                          493     21941           -17.4   \n",
       "Xiamen ITG Holding Group                494     21930            34.3   \n",
       "Xinjiang Guanghui Industry Investment   495     21919            31.1   \n",
       "Teva Pharmaceutical Industries          496     21903            11.5   \n",
       "New China Life Insurance                497     21796           -13.3   \n",
       "Wm. Morrison Supermarkets               498     21741           -11.3   \n",
       "TUI                                     499     21655            -5.5   \n",
       "AutoNation                              500     21609             3.6   \n",
       "\n",
       "                                       profits  assets  profit_change  \\\n",
       "Telecom Italia                          1999.4   74295            NaN   \n",
       "Xiamen ITG Holding Group                  35.6   12161          -25.1   \n",
       "Xinjiang Guanghui Industry Investment    251.8   31957           49.9   \n",
       "Teva Pharmaceutical Industries           329.0   92890          -79.3   \n",
       "New China Life Insurance                 743.9  100609          -45.6   \n",
       "Wm. Morrison Supermarkets                406.4   11630           20.4   \n",
       "TUI                                     1151.7   16247          195.5   \n",
       "AutoNation                               430.5   10060           -2.7   \n",
       "\n",
       "                                                      ceo  \\\n",
       "Telecom Italia                            Flavio Cattaneo   \n",
       "Xiamen ITG Holding Group                        Xu Xiaoxi   \n",
       "Xinjiang Guanghui Industry Investment       Shang Jiqiang   \n",
       "Teva Pharmaceutical Industries          Yitzhak Peterburg   \n",
       "New China Life Insurance                         Wan Feng   \n",
       "Wm. Morrison Supermarkets                  David T. Potts   \n",
       "TUI                                     Friedrich Joussen   \n",
       "AutoNation                             Michael J. Jackson   \n",
       "\n",
       "                                                              industry  \\\n",
       "Telecom Italia                                      Telecommunications   \n",
       "Xiamen ITG Holding Group                                       Trading   \n",
       "Xinjiang Guanghui Industry Investment                          Trading   \n",
       "Teva Pharmaceutical Industries                         Pharmaceuticals   \n",
       "New China Life Insurance               Insurance: Life, Health (stock)   \n",
       "Wm. Morrison Supermarkets                         Food and Drug Stores   \n",
       "TUI                                                    Travel Services   \n",
       "AutoNation                                         Specialty Retailers   \n",
       "\n",
       "                                                   sector  previous_rank  \\\n",
       "Telecom Italia                         Telecommunications            404   \n",
       "Xiamen ITG Holding Group                      Wholesalers              0   \n",
       "Xinjiang Guanghui Industry Investment         Wholesalers              0   \n",
       "Teva Pharmaceutical Industries                Health Care              0   \n",
       "New China Life Insurance                       Financials            427   \n",
       "Wm. Morrison Supermarkets              Food & Drug Stores            437   \n",
       "TUI                                     Business Services            467   \n",
       "AutoNation                                      Retailing              0   \n",
       "\n",
       "                                       country           hq_location  \\\n",
       "Telecom Italia                           Italy          Milan, Italy   \n",
       "Xiamen ITG Holding Group                 China         Xiamen, China   \n",
       "Xinjiang Guanghui Industry Investment    China         Urumqi, China   \n",
       "Teva Pharmaceutical Industries          Israel  Petach Tikva, Israel   \n",
       "New China Life Insurance                 China        Beijing, China   \n",
       "Wm. Morrison Supermarkets              Britain     Bradford, Britain   \n",
       "TUI                                    Germany      Hanover, Germany   \n",
       "AutoNation                                 USA   Fort Lauderdale, FL   \n",
       "\n",
       "                                                            website  \\\n",
       "Telecom Italia                         http://www.telecomitalia.com   \n",
       "Xiamen ITG Holding Group               http://www.itgholding.com.cn   \n",
       "Xinjiang Guanghui Industry Investment       http://www.guanghui.com   \n",
       "Teva Pharmaceutical Industries             http://www.tevapharm.com   \n",
       "New China Life Insurance                http://www.newchinalife.com   \n",
       "Wm. Morrison Supermarkets                  http://www.morrisons.com   \n",
       "TUI                                         http://www.tuigroup.com   \n",
       "AutoNation                                http://www.autonation.com   \n",
       "\n",
       "                                       years_on_global_500_list  employees  \\\n",
       "Telecom Italia                                               18      61227   \n",
       "Xiamen ITG Holding Group                                      1      18454   \n",
       "Xinjiang Guanghui Industry Investment                         1      65616   \n",
       "Teva Pharmaceutical Industries                                1      56960   \n",
       "New China Life Insurance                                      2      54378   \n",
       "Wm. Morrison Supermarkets                                    13      77210   \n",
       "TUI                                                          23      66779   \n",
       "AutoNation                                                   12      26000   \n",
       "\n",
       "                                       total_stockholder_equity  \n",
       "Telecom Italia                                            22366  \n",
       "Xiamen ITG Holding Group                                   1066  \n",
       "Xinjiang Guanghui Industry Investment                      4563  \n",
       "Teva Pharmaceutical Industries                            33337  \n",
       "New China Life Insurance                                   8507  \n",
       "Wm. Morrison Supermarkets                                  5111  \n",
       "TUI                                                        3006  \n",
       "AutoNation                                                 2310  "
      ]
     },
     "execution_count": 2,
     "metadata": {},
     "output_type": "execute_result"
    }
   ],
   "source": [
    "f500.head(6) #  By default, it will return the first five rows\n",
    "f500.tail(8) #  By default, it will return the last five rows"
   ]
  },
  {
   "cell_type": "code",
   "execution_count": 3,
   "metadata": {},
   "outputs": [
    {
     "data": {
      "text/plain": [
       "rank                          int64\n",
       "revenues                      int64\n",
       "revenue_change              float64\n",
       "profits                     float64\n",
       "assets                        int64\n",
       "profit_change               float64\n",
       "ceo                          object\n",
       "industry                     object\n",
       "sector                       object\n",
       "previous_rank                 int64\n",
       "country                      object\n",
       "hq_location                  object\n",
       "website                      object\n",
       "years_on_global_500_list      int64\n",
       "employees                     int64\n",
       "total_stockholder_equity      int64\n",
       "dtype: object"
      ]
     },
     "execution_count": 3,
     "metadata": {},
     "output_type": "execute_result"
    }
   ],
   "source": [
    "# Information about the types of each column.\n",
    "f500.dtypes"
   ]
  },
  {
   "cell_type": "code",
   "execution_count": 4,
   "metadata": {},
   "outputs": [
    {
     "name": "stdout",
     "output_type": "stream",
     "text": [
      "<class 'pandas.core.frame.DataFrame'>\n",
      "Index: 500 entries, Walmart to AutoNation\n",
      "Data columns (total 16 columns):\n",
      "rank                        500 non-null int64\n",
      "revenues                    500 non-null int64\n",
      "revenue_change              498 non-null float64\n",
      "profits                     499 non-null float64\n",
      "assets                      500 non-null int64\n",
      "profit_change               436 non-null float64\n",
      "ceo                         500 non-null object\n",
      "industry                    500 non-null object\n",
      "sector                      500 non-null object\n",
      "previous_rank               500 non-null int64\n",
      "country                     500 non-null object\n",
      "hq_location                 500 non-null object\n",
      "website                     500 non-null object\n",
      "years_on_global_500_list    500 non-null int64\n",
      "employees                   500 non-null int64\n",
      "total_stockholder_equity    500 non-null int64\n",
      "dtypes: float64(3), int64(7), object(6)\n",
      "memory usage: 66.4+ KB\n"
     ]
    }
   ],
   "source": [
    "# overview of all the dtypes, along with its shape and other information\n",
    "f500.info()"
   ]
  },
  {
   "cell_type": "markdown",
   "metadata": {},
   "source": [
    "We used the `DataFrame.info()` method to show us the number of entries in our index (representing the number of rows), a list of each column with their dtype and the number of non-null values, as well as a summary of the different dtypes and memory usage."
   ]
  },
  {
   "cell_type": "markdown",
   "metadata": {},
   "source": [
    "Because our axes in pandas have labels, we can select data using those labels — unlike in NumPy, where we needed to know the exact index location. To do this, we can use the `DataFrame.loc[]` method."
   ]
  },
  {
   "cell_type": "code",
   "execution_count": 16,
   "metadata": {},
   "outputs": [
    {
     "data": {
      "text/plain": [
       "Walmart                        General Merchandisers\n",
       "State Grid                                 Utilities\n",
       "Sinopec Group                     Petroleum Refining\n",
       "China National Petroleum          Petroleum Refining\n",
       "Toyota Motor                Motor Vehicles and Parts\n",
       "Name: industry, dtype: object"
      ]
     },
     "execution_count": 16,
     "metadata": {},
     "output_type": "execute_result"
    }
   ],
   "source": [
    "# Select the industry column\n",
    "# industries = f500.loc[:,\"industry\"] # Method 1\n",
    "industries = f500.industry          # Method 2\n",
    "# industries = f500[\"industry\"]        # Method 3 (most popular)\n",
    "industries.head()\n"
   ]
  },
  {
   "cell_type": "code",
   "execution_count": 6,
   "metadata": {},
   "outputs": [
    {
     "data": {
      "text/plain": [
       "pandas.core.series.Series"
      ]
     },
     "execution_count": 6,
     "metadata": {},
     "output_type": "execute_result"
    }
   ],
   "source": [
    "industries_type = type(industries)\n",
    "industries_type # Series is the pandas type for one-dimensional objects"
   ]
  },
  {
   "cell_type": "markdown",
   "metadata": {},
   "source": [
    "Anytime we see a 1D pandas object, it will be a **series**. Anytime we see a 2D pandas object, it will be a **dataframe**.\n",
    "\n",
    "In fact, we can think of a dataframe as a collection of series objects, which is similar to how pandas stores the data behind the scenes"
   ]
  },
  {
   "cell_type": "code",
   "execution_count": 9,
   "metadata": {},
   "outputs": [],
   "source": [
    "# selection of cloumns using different method\n",
    "\n",
    "countries = f500.country # Select the country column\n",
    "revenues_years = f500[[\"revenues\",\"years_on_global_500_list\"]] #select the revenues and years_on_global_500_list columns.\n",
    "ceo_to_sector = f500.loc[:,\"ceo\":\"sector\"] # select all columns from ceo up to and including sector"
   ]
  },
  {
   "cell_type": "markdown",
   "metadata": {},
   "source": [
    "In case of selecting of slicing of columns, we can't use any method other than `.loc` method"
   ]
  },
  {
   "cell_type": "markdown",
   "metadata": {},
   "source": [
    "# Select rows using the labels of the index axis"
   ]
  },
  {
   "cell_type": "code",
   "execution_count": 8,
   "metadata": {},
   "outputs": [],
   "source": [
    "toyota = f500.loc[\"Toyota Motor\"] # row with index Toyota Motor\n",
    "drink_companies = f500.loc[[\"Anheuser-Busch InBev\", \"Coca-Cola\",\"Heineken Holding\"]]\n",
    "middle_companies = f500[\"Tata Motors\":\"Nationwide\"] # we can't use this shortcut for columns - because it's reserved for use with rows"
   ]
  },
  {
   "cell_type": "code",
   "execution_count": 9,
   "metadata": {},
   "outputs": [],
   "source": [
    "middle_companies = f500.loc[\"Tata Motors\":\"Nationwide\",\"rank\":\"country\"]"
   ]
  },
  {
   "cell_type": "markdown",
   "metadata": {},
   "source": [
    "Series and dataframes are two distinct objects, they have their own unique methods."
   ]
  },
  {
   "cell_type": "code",
   "execution_count": 11,
   "metadata": {},
   "outputs": [
    {
     "data": {
      "text/plain": [
       "USA             132\n",
       "China           109\n",
       "Japan            51\n",
       "Germany          29\n",
       "France           29\n",
       "Britain          24\n",
       "South Korea      15\n",
       "Netherlands      14\n",
       "Switzerland      14\n",
       "Canada           11\n",
       "Spain             9\n",
       "India             7\n",
       "Brazil            7\n",
       "Australia         7\n",
       "Italy             7\n",
       "Taiwan            6\n",
       "Russia            4\n",
       "Ireland           4\n",
       "Sweden            3\n",
       "Singapore         3\n",
       "Mexico            2\n",
       "Thailand          1\n",
       "Luxembourg        1\n",
       "Turkey            1\n",
       "Finland           1\n",
       "Venezuela         1\n",
       "Indonesia         1\n",
       "Saudi Arabia      1\n",
       "Denmark           1\n",
       "Belgium           1\n",
       "Norway            1\n",
       "U.A.E             1\n",
       "Malaysia          1\n",
       "Israel            1\n",
       "Name: country, dtype: int64"
      ]
     },
     "execution_count": 11,
     "metadata": {},
     "output_type": "execute_result"
    }
   ],
   "source": [
    "countries = f500[\"country\"]\n",
    "country_counts = countries.value_counts() # value_counts() is a series only method, we get error if we use on DataFrame.\n",
    "# This method displays each unique non-null (null values are dropped (dropna = True) by default) value in a column and their counts in order.\n",
    "country_counts # its an alternate of dictionary frequency"
   ]
  },
  {
   "cell_type": "markdown",
   "metadata": {},
   "source": [
    "As with dataframes, we can use `Series.loc[]` to select items from a series using single labels, a list, or a slice object. We can also omit `loc[]` and use bracket shortcuts for all three\n"
   ]
  },
  {
   "cell_type": "code",
   "execution_count": 13,
   "metadata": {},
   "outputs": [
    {
     "data": {
      "text/plain": [
       "USA            132\n",
       "China          109\n",
       "Japan           51\n",
       "Germany         29\n",
       "France          29\n",
       "Britain         24\n",
       "South Korea     15\n",
       "Netherlands     14\n",
       "Switzerland     14\n",
       "Canada          11\n",
       "Spain            9\n",
       "Name: country, dtype: int64"
      ]
     },
     "execution_count": 13,
     "metadata": {},
     "output_type": "execute_result"
    }
   ],
   "source": [
    "india = country_counts[\"India\"]\n",
    "north_america = country_counts.loc[[\"USA\", \"Canada\",\"Mexico\"]]  # using loc is optional in Series\n",
    "country_counts[\"USA\":\"Spain\"]"
   ]
  },
  {
   "cell_type": "code",
   "execution_count": 50,
   "metadata": {},
   "outputs": [],
   "source": [
    "big_movers = f500.loc[[\"Aviva\", \"HP\", \"JD.com\",\"BHP Billiton\"],[\"rank\",\"previous_rank\"]] # order of rows and columns will be maintained"
   ]
  },
  {
   "cell_type": "code",
   "execution_count": 51,
   "metadata": {},
   "outputs": [],
   "source": [
    "bottom_companies = f500.loc[\"National Grid\": \"AutoNation\", [\"rank\",\"sector\",\"country\"]]"
   ]
  },
  {
   "cell_type": "code",
   "execution_count": null,
   "metadata": {},
   "outputs": [],
   "source": []
  }
 ],
 "metadata": {
  "kernelspec": {
   "display_name": "Python 3",
   "language": "python",
   "name": "python3"
  },
  "language_info": {
   "codemirror_mode": {
    "name": "ipython",
    "version": 3
   },
   "file_extension": ".py",
   "mimetype": "text/x-python",
   "name": "python",
   "nbconvert_exporter": "python",
   "pygments_lexer": "ipython3",
   "version": "3.7.6"
  }
 },
 "nbformat": 4,
 "nbformat_minor": 2
}
